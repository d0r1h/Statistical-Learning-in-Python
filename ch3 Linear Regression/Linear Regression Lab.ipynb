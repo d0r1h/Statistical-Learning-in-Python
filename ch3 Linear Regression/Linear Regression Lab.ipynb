{
 "cells": [
  {
   "cell_type": "code",
   "execution_count": 7,
   "id": "ada70c60",
   "metadata": {},
   "outputs": [],
   "source": [
    "import pandas as pd\n",
    "import numpy as np\n",
    "import statsmodels.api as sm\n",
    "import seaborn as sns\n",
    "import matplotlib.pyplot as plt\n",
    "from sklearn.model_selection import train_test_split"
   ]
  },
  {
   "cell_type": "markdown",
   "id": "0cfce4ae",
   "metadata": {},
   "source": [
    "  "
   ]
  },
  {
   "cell_type": "markdown",
   "id": "c5c0e05b",
   "metadata": {},
   "source": [
    "8. Fitting a simple linear regression model using Auto dataset"
   ]
  },
  {
   "cell_type": "code",
   "execution_count": 4,
   "id": "bfd57d1e",
   "metadata": {},
   "outputs": [],
   "source": [
    "auto  = pd.read_csv('../DataSet/Auto.csv')"
   ]
  },
  {
   "cell_type": "code",
   "execution_count": 5,
   "id": "487e17bf",
   "metadata": {},
   "outputs": [
    {
     "data": {
      "text/html": [
       "<div>\n",
       "<style scoped>\n",
       "    .dataframe tbody tr th:only-of-type {\n",
       "        vertical-align: middle;\n",
       "    }\n",
       "\n",
       "    .dataframe tbody tr th {\n",
       "        vertical-align: top;\n",
       "    }\n",
       "\n",
       "    .dataframe thead th {\n",
       "        text-align: right;\n",
       "    }\n",
       "</style>\n",
       "<table border=\"1\" class=\"dataframe\">\n",
       "  <thead>\n",
       "    <tr style=\"text-align: right;\">\n",
       "      <th></th>\n",
       "      <th>mpg</th>\n",
       "      <th>cylinders</th>\n",
       "      <th>displacement</th>\n",
       "      <th>horsepower</th>\n",
       "      <th>weight</th>\n",
       "      <th>acceleration</th>\n",
       "      <th>year</th>\n",
       "      <th>origin</th>\n",
       "      <th>name</th>\n",
       "    </tr>\n",
       "  </thead>\n",
       "  <tbody>\n",
       "    <tr>\n",
       "      <th>0</th>\n",
       "      <td>18.0</td>\n",
       "      <td>8</td>\n",
       "      <td>307.0</td>\n",
       "      <td>130</td>\n",
       "      <td>3504</td>\n",
       "      <td>12.0</td>\n",
       "      <td>70</td>\n",
       "      <td>1</td>\n",
       "      <td>chevrolet chevelle malibu</td>\n",
       "    </tr>\n",
       "    <tr>\n",
       "      <th>1</th>\n",
       "      <td>15.0</td>\n",
       "      <td>8</td>\n",
       "      <td>350.0</td>\n",
       "      <td>165</td>\n",
       "      <td>3693</td>\n",
       "      <td>11.5</td>\n",
       "      <td>70</td>\n",
       "      <td>1</td>\n",
       "      <td>buick skylark 320</td>\n",
       "    </tr>\n",
       "  </tbody>\n",
       "</table>\n",
       "</div>"
      ],
      "text/plain": [
       "    mpg  cylinders  displacement  horsepower  weight  acceleration  year  \\\n",
       "0  18.0          8         307.0         130    3504          12.0    70   \n",
       "1  15.0          8         350.0         165    3693          11.5    70   \n",
       "\n",
       "   origin                       name  \n",
       "0       1  chevrolet chevelle malibu  \n",
       "1       1          buick skylark 320  "
      ]
     },
     "execution_count": 5,
     "metadata": {},
     "output_type": "execute_result"
    }
   ],
   "source": [
    "auto.head(2)"
   ]
  },
  {
   "cell_type": "markdown",
   "id": "a6ffaf72",
   "metadata": {},
   "source": [
    "(a) Perform a simple linear regression with mpg as the response(output) and horsepower as the predictor(input). Use summary to print the results. Comment on the output. For example:\n",
    "\n",
    "    1. Is there a relationship between the predictor and the response?\n",
    "    2. How strong is the relationship between the predictor and the response?\n",
    "    3. Is the relationship between the predictor and the response positive or negative?\n",
    "    4. What is the predicted mpg associated with a horsepower of 98? What are the associated 95 % confidence and prediction intervals?\n"
   ]
  },
  {
   "cell_type": "code",
   "execution_count": 11,
   "id": "fb3a355c",
   "metadata": {},
   "outputs": [],
   "source": [
    "X = auto.horsepower\n",
    "y = auto.mpg"
   ]
  },
  {
   "cell_type": "code",
   "execution_count": 14,
   "id": "7314ef57",
   "metadata": {},
   "outputs": [],
   "source": [
    "X_train, X_test, y_train, y_test = train_test_split(X, y,random_state=1, test_size = 0.3)\n",
    "\n",
    "X_train = pd.DataFrame(X_train)\n",
    "c = np.ones(X_train.shape[0])\n",
    "X_train.insert(loc = 0, column = 'intercept', value = c)"
   ]
  },
  {
   "cell_type": "code",
   "execution_count": 15,
   "id": "669ee05e",
   "metadata": {},
   "outputs": [
    {
     "name": "stdout",
     "output_type": "stream",
     "text": [
      "                            OLS Regression Results                            \n",
      "==============================================================================\n",
      "Dep. Variable:                    mpg   R-squared:                       0.604\n",
      "Model:                            OLS   Adj. R-squared:                  0.603\n",
      "Method:                 Least Squares   F-statistic:                     415.2\n",
      "Date:                Thu, 06 May 2021   Prob (F-statistic):           1.12e-56\n",
      "Time:                        08:21:53   Log-Likelihood:                -818.79\n",
      "No. Observations:                 274   AIC:                             1642.\n",
      "Df Residuals:                     272   BIC:                             1649.\n",
      "Df Model:                           1                                         \n",
      "Covariance Type:            nonrobust                                         \n",
      "==============================================================================\n",
      "                 coef    std err          t      P>|t|      [0.025      0.975]\n",
      "------------------------------------------------------------------------------\n",
      "intercept     39.5852      0.845     46.826      0.000      37.921      41.250\n",
      "horsepower    -0.1570      0.008    -20.377      0.000      -0.172      -0.142\n",
      "==============================================================================\n",
      "Omnibus:                       12.891   Durbin-Watson:                   1.995\n",
      "Prob(Omnibus):                  0.002   Jarque-Bera (JB):               13.614\n",
      "Skew:                           0.479   Prob(JB):                      0.00111\n",
      "Kurtosis:                       3.524   Cond. No.                         319.\n",
      "==============================================================================\n",
      "\n",
      "Notes:\n",
      "[1] Standard Errors assume that the covariance matrix of the errors is correctly specified.\n"
     ]
    }
   ],
   "source": [
    "SLR_model = sm.OLS(y_train, X_train).fit()\n",
    "print(SLR_model.summary())"
   ]
  },
  {
   "cell_type": "raw",
   "id": "983bb780",
   "metadata": {},
   "source": [
    "1. \n",
    "\n",
    "2. \n",
    "\n",
    "3. \n",
    "\n",
    "4.  "
   ]
  },
  {
   "cell_type": "code",
   "execution_count": null,
   "id": "b00bbc60",
   "metadata": {},
   "outputs": [],
   "source": []
  },
  {
   "cell_type": "markdown",
   "id": "1611a6fd",
   "metadata": {},
   "source": [
    "(b) Plot the response and the predictor. Display the least squares regression line."
   ]
  },
  {
   "cell_type": "code",
   "execution_count": 19,
   "id": "b7198d81",
   "metadata": {},
   "outputs": [
    {
     "data": {
      "image/png": "[encoded data removed]",
      "text/plain": [
       "<Figure size 360x360 with 1 Axes>"
      ]
     },
     "metadata": {
      "needs_background": "light"
     },
     "output_type": "display_data"
    }
   ],
   "source": [
    "sns.lmplot(x='horsepower', y='mpg', data=auto)\n",
    "plt.show()"
   ]
  },
  {
   "cell_type": "markdown",
   "id": "c910fdda",
   "metadata": {},
   "source": [
    "(c) Produce diagnostic plots of the leastsquares regression fit. Comment on any problems you see with the fit."
   ]
  },
  {
   "cell_type": "code",
   "execution_count": null,
   "id": "47a2ae57",
   "metadata": {},
   "outputs": [],
   "source": [
    "https://robert-alvarez.github.io/2018-06-04-diagnostic_plots/\n",
    "https://medium.com/@vijay.prayagala/python-diagnostic-plots-for-ols-linear-regression-plots-similar-to-r-e308091d6072\n",
    "    "
   ]
  },
  {
   "cell_type": "code",
   "execution_count": null,
   "id": "528a9df5",
   "metadata": {},
   "outputs": [],
   "source": []
  },
  {
   "cell_type": "code",
   "execution_count": null,
   "id": "72638588",
   "metadata": {},
   "outputs": [],
   "source": []
  },
  {
   "cell_type": "code",
   "execution_count": null,
   "id": "1f365a0c",
   "metadata": {},
   "outputs": [],
   "source": [
    "https://seaborn.pydata.org/examples/scatterplot_matrix.html"
   ]
  }
 ],
 "metadata": {
  "kernelspec": {
   "display_name": "Python 3",
   "language": "python",
   "name": "python3"
  },
  "language_info": {
   "codemirror_mode": {
    "name": "ipython",
    "version": 3
   },
   "file_extension": ".py",
   "mimetype": "text/x-python",
   "name": "python",
   "nbconvert_exporter": "python",
   "pygments_lexer": "ipython3",
   "version": "3.8.5"
  }
 },
 "nbformat": 4,
 "nbformat_minor": 5
}
